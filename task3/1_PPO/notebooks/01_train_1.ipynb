{
 "cells": [
  {
   "cell_type": "code",
   "execution_count": 1,
   "id": "8f3294a2",
   "metadata": {},
   "outputs": [
    {
     "name": "stderr",
     "output_type": "stream",
     "text": [
      "2025-04-24 18:11:59.611551: I tensorflow/core/util/port.cc:153] oneDNN custom operations are on. You may see slightly different numerical results due to floating-point round-off errors from different computation orders. To turn them off, set the environment variable `TF_ENABLE_ONEDNN_OPTS=0`.\n",
      "2025-04-24 18:11:59.661321: I tensorflow/core/platform/cpu_feature_guard.cc:210] This TensorFlow binary is optimized to use available CPU instructions in performance-critical operations.\n",
      "To enable the following instructions: AVX2 AVX512F AVX512_VNNI FMA, in other operations, rebuild TensorFlow with the appropriate compiler flags.\n",
      "2025-04-24 18:12:02.077644: I tensorflow/core/util/port.cc:153] oneDNN custom operations are on. You may see slightly different numerical results due to floating-point round-off errors from different computation orders. To turn them off, set the environment variable `TF_ENABLE_ONEDNN_OPTS=0`.\n"
     ]
    }
   ],
   "source": [
    "import os, gymnasium as gym, highway_env      \n",
    "from stable_baselines3.common.env_util import make_vec_env\n",
    "from stable_baselines3.common.vec_env import SubprocVecEnv\n",
    "import os, time, pickle, psutil, highway_env, gymnasium as gym\n",
    "from stable_baselines3 import PPO\n",
    "from stable_baselines3.common.env_util import make_vec_env\n",
    "from stable_baselines3.common.vec_env import SubprocVecEnv\n",
    "from stable_baselines3.common.callbacks import EvalCallback\n",
    "import matplotlib.pyplot as plt\n"
   ]
  },
  {
   "cell_type": "code",
   "execution_count": 2,
   "id": "8fb5dc2d",
   "metadata": {},
   "outputs": [
    {
     "name": "stdout",
     "output_type": "stream",
     "text": [
      "N_ENVS=16\n"
     ]
    }
   ],
   "source": [
    "# chemins projet\n",
    "ROOT      = os.path.abspath(\"..\")          # /project/task3\n",
    "CONFIG_FN = os.path.join(ROOT, \"configs\", \"config3.pkl\")\n",
    "LOG_DIR   = os.path.join(ROOT, \"logs\", \"ppo_main2\")\n",
    "MODEL_DIR = os.path.join(ROOT, \"models\")\n",
    "os.makedirs(LOG_DIR, exist_ok=True); os.makedirs(MODEL_DIR, exist_ok=True)\n",
    "\n",
    "# charger la config Highway\n",
    "with open(CONFIG_FN, \"rb\") as f: cfg = pickle.load(f)\n",
    "\n",
    "# nb de processus\n",
    "CORES   = psutil.cpu_count(logical=False)        # 24\n",
    "N_ENVS  = min(16, CORES - 2)                     # 22 envs\n",
    "print(f\"{N_ENVS=}\")\n"
   ]
  },
  {
   "cell_type": "code",
   "execution_count": 3,
   "id": "ab3365b8",
   "metadata": {},
   "outputs": [
    {
     "data": {
      "image/png": "[encoded data removed]",
      "text/plain": [
       "<Figure size 640x480 with 1 Axes>"
      ]
     },
     "metadata": {},
     "output_type": "display_data"
    }
   ],
   "source": [
    "env_vis = gym.make(\"racetrack-v0\", render_mode=\"rgb_array\")\n",
    "env_vis.unwrapped.configure(cfg)\n",
    "obs, _ = env_vis.reset()\n",
    "frame = env_vis.render()\n",
    "\n",
    "\n",
    "plt.imshow(frame)\n",
    "plt.axis(\"off\")\n",
    "plt.title(\"Vue initiale\")\n",
    "plt.show()\n",
    "\n",
    "env_vis.close()\n"
   ]
  },
  {
   "cell_type": "code",
   "execution_count": 4,
   "id": "b58568b0",
   "metadata": {},
   "outputs": [],
   "source": [
    "vec_env = make_vec_env(\n",
    "    \"racetrack-v0\",\n",
    "    n_envs=N_ENVS,\n",
    "    env_kwargs={\"config\": cfg},\n",
    "    vec_env_cls=SubprocVecEnv,\n",
    "    vec_env_kwargs={\"start_method\": \"fork\"},   # <- important\n",
    ")\n",
    "\n"
   ]
  },
  {
   "cell_type": "code",
   "execution_count": 5,
   "id": "dbfac583",
   "metadata": {},
   "outputs": [
    {
     "name": "stdout",
     "output_type": "stream",
     "text": [
      "Using cpu device\n"
     ]
    },
    {
     "name": "stderr",
     "output_type": "stream",
     "text": [
      "/usr/users/streamingjailbreakdetection/elbarichi_moh/miniconda3/lib/python3.12/site-packages/stable_baselines3/common/policies.py:486: UserWarning: As shared layers in the mlp_extractor are removed since SB3 v1.8.0, you should now pass directly a dictionary and not a list (net_arch=dict(pi=..., vf=...) instead of net_arch=[dict(pi=..., vf=...)])\n",
      "  warnings.warn(\n"
     ]
    }
   ],
   "source": [
    "N_STEPS    = 512                         # par env\n",
    "BATCH_SIZE = 1024                        # doit diviser N_ENVS*N_STEPS (=11264)\n",
    "TOTAL_TS   = 1_000_000                     # par env  \n",
    "LR         = 5e-4                        # learning-rate du repo d’origine\n",
    "GAMMA      = 0.90                        # idem\n",
    "N_EPOCHS   = 10                          # PPO update epochs\n",
    "\n",
    "policy_kwargs = dict(net_arch=[dict(pi=[256, 256],\n",
    "                                    vf=[256, 256])])\n",
    "\n",
    "model = PPO(\n",
    "    \"MlpPolicy\",\n",
    "    vec_env,\n",
    "    policy_kwargs=policy_kwargs,\n",
    "    n_steps=N_STEPS,\n",
    "    batch_size=BATCH_SIZE,\n",
    "    n_epochs=N_EPOCHS,\n",
    "    learning_rate=LR,\n",
    "    gamma=GAMMA,\n",
    "    verbose=1,\n",
    "    tensorboard_log=LOG_DIR,\n",
    ")\n"
   ]
  },
  {
   "cell_type": "code",
   "execution_count": 6,
   "id": "160c8e7f",
   "metadata": {},
   "outputs": [],
   "source": [
    "eval_env = gym.make(\"racetrack-v0\")\n",
    "eval_env.unwrapped.configure(cfg)\n",
    "eval_cb = EvalCallback(\n",
    "    eval_env,\n",
    "    eval_freq=20_000,        # toutes les 20 k pas globaux\n",
    "    n_eval_episodes=5,\n",
    "    log_path=LOG_DIR,\n",
    "    deterministic=True,\n",
    ")\n"
   ]
  },
  {
   "cell_type": "code",
   "execution_count": null,
   "id": "84b8846b",
   "metadata": {},
   "outputs": [
    {
     "name": "stdout",
     "output_type": "stream",
     "text": [
      "Logging to /usr/users/streamingjailbreakdetection/elbarichi_moh/Reinforcement-Learning-Project/task3/logs/ppo_main2/main_run_2\n"
     ]
    },
    {
     "data": {
      "application/vnd.jupyter.widget-view+json": {
       "model_id": "7f7027e5a4bd4c0db28f50ad74746d1d",
       "version_major": 2,
       "version_minor": 0
      },
      "text/plain": [
       "Output()"
      ]
     },
     "metadata": {},
     "output_type": "display_data"
    },
    {
     "name": "stderr",
     "output_type": "stream",
     "text": [
      "/usr/users/streamingjailbreakdetection/elbarichi_moh/miniconda3/lib/python3.12/site-packages/stable_baselines3/common/callbacks.py:418: UserWarning: Training and eval env are not of the same type<stable_baselines3.common.vec_env.subproc_vec_env.SubprocVecEnv object at 0x7f31c86c0dd0> != <stable_baselines3.common.vec_env.dummy_vec_env.DummyVecEnv object at 0x7f3362cb7410>\n",
      "  warnings.warn(\"Training and eval env are not of the same type\" f\"{self.training_env} != {self.eval_env}\")\n"
     ]
    },
    {
     "name": "stdout",
     "output_type": "stream",
     "text": [
      "---------------------------------\n",
      "| rollout/           |          |\n",
      "|    ep_len_mean     | 66.8     |\n",
      "|    ep_rew_mean     | 9.18     |\n",
      "| time/              |          |\n",
      "|    fps             | 296      |\n",
      "|    iterations      | 1        |\n",
      "|    time_elapsed    | 27       |\n",
      "|    total_timesteps | 8192     |\n",
      "---------------------------------\n"
     ]
    },
    {
     "name": "stdout",
     "output_type": "stream",
     "text": [
      "------------------------------------------\n",
      "| rollout/                |              |\n",
      "|    ep_len_mean          | 66.8         |\n",
      "|    ep_rew_mean          | 9.18         |\n",
      "| time/                   |              |\n",
      "|    fps                  | 298          |\n",
      "|    iterations           | 2            |\n",
      "|    time_elapsed         | 54           |\n",
      "|    total_timesteps      | 16384        |\n",
      "| train/                  |              |\n",
      "|    approx_kl            | 0.0032737588 |\n",
      "|    clip_fraction        | 0.015        |\n",
      "|    clip_range           | 0.2          |\n",
      "|    entropy_loss         | -1.4         |\n",
      "|    explained_variance   | -0.0241      |\n",
      "|    learning_rate        | 0.0005       |\n",
      "|    loss                 | 0.0103       |\n",
      "|    n_updates            | 10           |\n",
      "|    policy_gradient_loss | -0.00739     |\n",
      "|    std                  | 0.967        |\n",
      "|    value_loss           | 0.0779       |\n",
      "------------------------------------------\n"
     ]
    }
   ],
   "source": [
    "start = time.time()\n",
    "model.learn(total_timesteps=TOTAL_TS,\n",
    "            tb_log_name=\"main_run\",\n",
    "            callback=eval_cb,\n",
    "            progress_bar=True)\n",
    "print(\"⏱  Durée entraînement :\", (time.time()-start)/60, \"min\")\n",
    "\n",
    "model_path = os.path.join(MODEL_DIR, \"ppo_racetrack_fast2.zip\")\n",
    "model.save(model_path)\n",
    "with open(model_path.replace(\".zip\", \"_info.txt\"), \"w\") as f:\n",
    "    f.write(f\"algo=PPO\\nn_envs={N_ENVS}\\n\"\n",
    "            f\"n_steps={N_STEPS}\\nbatch_size={BATCH_SIZE}\\n\"\n",
    "            f\"lr={LR}\\ngamma={GAMMA}\\n\"\n",
    "            f\"total_ts/env={TOTAL_TS}\\n\")\n",
    "print(\"✓ modèle & méta sauvegardés →\", model_path)\n"
   ]
  },
  {
   "cell_type": "code",
   "execution_count": null,
   "id": "4a273758",
   "metadata": {},
   "outputs": [
    {
     "name": "stdout",
     "output_type": "stream",
     "text": [
      "Reward test rapide : 20.965428878940205\n"
     ]
    }
   ],
   "source": [
    "test_env = gym.make(\"racetrack-v0\"); test_env.unwrapped.configure(cfg)\n",
    "obs,_ = test_env.reset(); R=0\n",
    "for _ in range(600):\n",
    "    action,_ = model.predict(obs, deterministic=True)\n",
    "    obs, r, done, trunc, _ = test_env.step(action); R += r\n",
    "    if done or trunc: break\n",
    "print(\"Reward test rapide :\", R)\n",
    "test_env.close()\n"
   ]
  }
 ],
 "metadata": {
  "kernelspec": {
   "display_name": "base",
   "language": "python",
   "name": "python3"
  },
  "language_info": {
   "codemirror_mode": {
    "name": "ipython",
    "version": 3
   },
   "file_extension": ".py",
   "mimetype": "text/x-python",
   "name": "python",
   "nbconvert_exporter": "python",
   "pygments_lexer": "ipython3",
   "version": "3.12.9"
  }
 },
 "nbformat": 4,
 "nbformat_minor": 5
}
