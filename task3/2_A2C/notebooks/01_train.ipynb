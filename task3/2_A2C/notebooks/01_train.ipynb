{
 "cells": [
  {
   "cell_type": "code",
   "execution_count": 1,
   "id": "8f3294a2",
   "metadata": {},
   "outputs": [
    {
     "name": "stderr",
     "output_type": "stream",
     "text": [
      "2025-04-24 18:52:29.125549: I tensorflow/core/util/port.cc:153] oneDNN custom operations are on. You may see slightly different numerical results due to floating-point round-off errors from different computation orders. To turn them off, set the environment variable `TF_ENABLE_ONEDNN_OPTS=0`.\n",
      "2025-04-24 18:52:29.174844: I tensorflow/core/platform/cpu_feature_guard.cc:210] This TensorFlow binary is optimized to use available CPU instructions in performance-critical operations.\n",
      "To enable the following instructions: AVX2 AVX512F AVX512_VNNI FMA, in other operations, rebuild TensorFlow with the appropriate compiler flags.\n",
      "2025-04-24 18:52:31.424859: I tensorflow/core/util/port.cc:153] oneDNN custom operations are on. You may see slightly different numerical results due to floating-point round-off errors from different computation orders. To turn them off, set the environment variable `TF_ENABLE_ONEDNN_OPTS=0`.\n"
     ]
    },
    {
     "data": {
      "image/png": "[encoded data removed]",
      "text/plain": [
       "<Figure size 640x480 with 1 Axes>"
      ]
     },
     "metadata": {},
     "output_type": "display_data"
    }
   ],
   "source": [
    "\n",
    "import os, time, pickle, psutil, gymnasium as gym, highway_env      # noqa: F401\n",
    "import matplotlib.pyplot as plt\n",
    "\n",
    "from stable_baselines3 import A2C                  # <- CHANGE\n",
    "from stable_baselines3.common.env_util import make_vec_env\n",
    "from stable_baselines3.common.vec_env import SubprocVecEnv\n",
    "from stable_baselines3.common.callbacks import EvalCallback\n",
    "\n",
    "ROOT       = os.path.abspath(\"../\")                    # /project/task3\n",
    "CONFIG_FN  = os.path.join(ROOT, \"configs\", \"config3.pkl\")\n",
    "LOG_DIR    = os.path.join(ROOT, \"logs\", \"a2c_main\")   # <- CHANGE\n",
    "MODEL_DIR  = os.path.join(ROOT, \"models\")\n",
    "os.makedirs(LOG_DIR,  exist_ok=True)\n",
    "os.makedirs(MODEL_DIR, exist_ok=True)\n",
    "\n",
    "with open(CONFIG_FN, \"rb\") as f:\n",
    "    cfg = pickle.load(f)\n",
    "\n",
    "env_vis = gym.make(\"racetrack-v0\", render_mode=\"rgb_array\")\n",
    "env_vis.unwrapped.configure(cfg)\n",
    "obs, _ = env_vis.reset()\n",
    "plt.imshow(env_vis.render()); plt.axis(\"off\"); plt.title(\"Vue initiale\"); plt.show()\n",
    "env_vis.close()\n"
   ]
  },
  {
   "cell_type": "code",
   "execution_count": 2,
   "id": "8fb5dc2d",
   "metadata": {},
   "outputs": [
    {
     "name": "stdout",
     "output_type": "stream",
     "text": [
      "N_ENVS=22 (CPU physiques : 24)\n",
      "Using cpu device\n"
     ]
    },
    {
     "name": "stderr",
     "output_type": "stream",
     "text": [
      "/usr/users/streamingjailbreakdetection/elbarichi_moh/miniconda3/lib/python3.12/site-packages/stable_baselines3/common/policies.py:486: UserWarning: As shared layers in the mlp_extractor are removed since SB3 v1.8.0, you should now pass directly a dictionary and not a list (net_arch=dict(pi=..., vf=...) instead of net_arch=[dict(pi=..., vf=...)])\n",
      "  warnings.warn(\n"
     ]
    }
   ],
   "source": [
    "\n",
    "CORES  = psutil.cpu_count(logical=False)      # ex. 24\n",
    "N_ENVS = min(22, CORES - 2)                   # 22 envs max\n",
    "print(f\"{N_ENVS=} (CPU physiques : {CORES})\")\n",
    "\n",
    "vec_env = make_vec_env(\n",
    "    \"racetrack-v0\",\n",
    "    n_envs=N_ENVS,\n",
    "    env_kwargs={\"config\": cfg},\n",
    "    vec_env_cls=SubprocVecEnv,\n",
    "    vec_env_kwargs={\"start_method\": \"fork\"},\n",
    ")\n",
    "\n",
    "\n",
    "N_STEPS     = 8                      # 8 * N_ENVS ≈ 176 transitions / update\n",
    "TOTAL_TS    = 100_000        # ← au lieu de 300_000 ou 400_000\n",
    "             \n",
    "LR          = 7e-4                   # lr par défaut A2C\n",
    "GAMMA       = 0.99\n",
    "ENT_COEF    = 0.0                    # entropy bonus\n",
    "VF_COEF     = 0.5\n",
    "\n",
    "policy_kwargs = dict(net_arch=[dict(pi=[256, 256],\n",
    "                                    vf=[256, 256])])\n",
    "\n",
    "model = A2C(\n",
    "    \"MlpPolicy\",\n",
    "    vec_env,\n",
    "    n_steps=N_STEPS,\n",
    "    learning_rate=LR,\n",
    "    gamma=GAMMA,\n",
    "    ent_coef=ENT_COEF,\n",
    "    vf_coef=VF_COEF,\n",
    "    policy_kwargs=policy_kwargs,\n",
    "    tensorboard_log=LOG_DIR,\n",
    "    verbose=1,\n",
    ")\n",
    "\n",
    "eval_env = gym.make(\"racetrack-v0\")\n",
    "eval_env.unwrapped.configure(cfg)\n",
    "\n",
    "eval_cb = EvalCallback(\n",
    "    eval_env,\n",
    "    eval_freq=25_000,         # un peu plus rare (A2C update + rapide)\n",
    "    n_eval_episodes=5,\n",
    "    log_path=LOG_DIR,\n",
    "    deterministic=True,\n",
    ")\n"
   ]
  },
  {
   "cell_type": "code",
   "execution_count": 3,
   "id": "00003aa0",
   "metadata": {},
   "outputs": [
    {
     "name": "stdout",
     "output_type": "stream",
     "text": [
      "Logging to /usr/users/streamingjailbreakdetection/elbarichi_moh/Reinforcement-Learning-Project/task3/logs/a2c_main/main_run_2\n"
     ]
    },
    {
     "data": {
      "application/vnd.jupyter.widget-view+json": {
       "model_id": "1769bf1bb90d4f9592d7bca33e08264a",
       "version_major": 2,
       "version_minor": 0
      },
      "text/plain": [
       "Output()"
      ]
     },
     "metadata": {},
     "output_type": "display_data"
    },
    {
     "name": "stderr",
     "output_type": "stream",
     "text": [
      "/usr/users/streamingjailbreakdetection/elbarichi_moh/miniconda3/lib/python3.12/site-packages/stable_baselines3/common/callbacks.py:418: UserWarning: Training and eval env are not of the same type<stable_baselines3.common.vec_env.subproc_vec_env.SubprocVecEnv object at 0x7fca18125af0> != <stable_baselines3.common.vec_env.dummy_vec_env.DummyVecEnv object at 0x7fc9b770ba40>\n",
      "  warnings.warn(\"Training and eval env are not of the same type\" f\"{self.training_env} != {self.eval_env}\")\n"
     ]
    },
    {
     "name": "stdout",
     "output_type": "stream",
     "text": [
      "------------------------------------\n",
      "| rollout/              |          |\n",
      "|    ep_len_mean        | 179      |\n",
      "|    ep_rew_mean        | 112      |\n",
      "| time/                 |          |\n",
      "|    fps                | 376      |\n",
      "|    iterations         | 100      |\n",
      "|    time_elapsed       | 46       |\n",
      "|    total_timesteps    | 17600    |\n",
      "| train/                |          |\n",
      "|    entropy_loss       | -1.41    |\n",
      "|    explained_variance | 0.992    |\n",
      "|    learning_rate      | 0.0007   |\n",
      "|    n_updates          | 99       |\n",
      "|    policy_loss        | 1.48     |\n",
      "|    std                | 0.989    |\n",
      "|    value_loss         | 1.96     |\n",
      "------------------------------------\n"
     ]
    },
    {
     "name": "stdout",
     "output_type": "stream",
     "text": [
      "------------------------------------\n",
      "| rollout/              |          |\n",
      "|    ep_len_mean        | 394      |\n",
      "|    ep_rew_mean        | 255      |\n",
      "| time/                 |          |\n",
      "|    fps                | 375      |\n",
      "|    iterations         | 200      |\n",
      "|    time_elapsed       | 93       |\n",
      "|    total_timesteps    | 35200    |\n",
      "| train/                |          |\n",
      "|    entropy_loss       | -1.41    |\n",
      "|    explained_variance | 0.00938  |\n",
      "|    learning_rate      | 0.0007   |\n",
      "|    n_updates          | 199      |\n",
      "|    policy_loss        | 1.04     |\n",
      "|    std                | 0.996    |\n",
      "|    value_loss         | 0.63     |\n",
      "------------------------------------\n"
     ]
    },
    {
     "name": "stdout",
     "output_type": "stream",
     "text": [
      "------------------------------------\n",
      "| rollout/              |          |\n",
      "|    ep_len_mean        | 425      |\n",
      "|    ep_rew_mean        | 290      |\n",
      "| time/                 |          |\n",
      "|    fps                | 373      |\n",
      "|    iterations         | 300      |\n",
      "|    time_elapsed       | 141      |\n",
      "|    total_timesteps    | 52800    |\n",
      "| train/                |          |\n",
      "|    entropy_loss       | -1.41    |\n",
      "|    explained_variance | -0.0366  |\n",
      "|    learning_rate      | 0.0007   |\n",
      "|    n_updates          | 299      |\n",
      "|    policy_loss        | 0.418    |\n",
      "|    std                | 0.991    |\n",
      "|    value_loss         | 0.134    |\n",
      "------------------------------------\n"
     ]
    },
    {
     "name": "stdout",
     "output_type": "stream",
     "text": [
      "------------------------------------\n",
      "| rollout/              |          |\n",
      "|    ep_len_mean        | 551      |\n",
      "|    ep_rew_mean        | 388      |\n",
      "| time/                 |          |\n",
      "|    fps                | 371      |\n",
      "|    iterations         | 400      |\n",
      "|    time_elapsed       | 189      |\n",
      "|    total_timesteps    | 70400    |\n",
      "| train/                |          |\n",
      "|    entropy_loss       | -1.36    |\n",
      "|    explained_variance | -0.00447 |\n",
      "|    learning_rate      | 0.0007   |\n",
      "|    n_updates          | 399      |\n",
      "|    policy_loss        | -0.00246 |\n",
      "|    std                | 0.942    |\n",
      "|    value_loss         | 0.0137   |\n",
      "------------------------------------\n"
     ]
    },
    {
     "name": "stdout",
     "output_type": "stream",
     "text": [
      "------------------------------------\n",
      "| rollout/              |          |\n",
      "|    ep_len_mean        | 487      |\n",
      "|    ep_rew_mean        | 363      |\n",
      "| time/                 |          |\n",
      "|    fps                | 370      |\n",
      "|    iterations         | 500      |\n",
      "|    time_elapsed       | 237      |\n",
      "|    total_timesteps    | 88000    |\n",
      "| train/                |          |\n",
      "|    entropy_loss       | -1.31    |\n",
      "|    explained_variance | 0.00279  |\n",
      "|    learning_rate      | 0.0007   |\n",
      "|    n_updates          | 499      |\n",
      "|    policy_loss        | 0.0313   |\n",
      "|    std                | 0.893    |\n",
      "|    value_loss         | 0.0282   |\n",
      "------------------------------------\n"
     ]
    },
    {
     "data": {
      "text/html": [
       "<pre style=\"white-space:pre;overflow-x:auto;line-height:normal;font-family:Menlo,'DejaVu Sans Mono',consolas,'Courier New',monospace\"></pre>\n"
      ],
      "text/plain": []
     },
     "metadata": {},
     "output_type": "display_data"
    },
    {
     "name": "stdout",
     "output_type": "stream",
     "text": [
      "⏱  Durée entraînement : 4.510455143451691 min\n",
      "✓ modèle & méta sauvegardés → /usr/users/streamingjailbreakdetection/elbarichi_moh/Reinforcement-Learning-Project/task3/models/a2c_racetrack_fast.zip\n"
     ]
    }
   ],
   "source": [
    "\n",
    "start = time.time()\n",
    "model.learn(\n",
    "    total_timesteps=TOTAL_TS,\n",
    "    tb_log_name=\"main_run\",\n",
    "    callback=eval_cb,\n",
    "    progress_bar=True,\n",
    ")\n",
    "print(\"⏱  Durée entraînement :\", (time.time() - start) / 60, \"min\")\n",
    "\n",
    "model_path = os.path.join(MODEL_DIR, \"a2c_racetrack_fast.zip\")\n",
    "model.save(model_path)\n",
    "with open(model_path.replace(\".zip\", \"_info.txt\"), \"w\") as f:\n",
    "    f.write(\n",
    "        f\"algo=A2C\\nn_envs={N_ENVS}\\n\"\n",
    "        f\"n_steps={N_STEPS}\\n\"\n",
    "        f\"lr={LR}\\ngamma={GAMMA}\\n\"\n",
    "        f\"total_ts/env={TOTAL_TS}\\n\"\n",
    "    )\n",
    "print(\"✓ modèle & méta sauvegardés →\", model_path)\n"
   ]
  }
 ],
 "metadata": {
  "kernelspec": {
   "display_name": "base",
   "language": "python",
   "name": "python3"
  },
  "language_info": {
   "codemirror_mode": {
    "name": "ipython",
    "version": 3
   },
   "file_extension": ".py",
   "mimetype": "text/x-python",
   "name": "python",
   "nbconvert_exporter": "python",
   "pygments_lexer": "ipython3",
   "version": "3.12.9"
  }
 },
 "nbformat": 4,
 "nbformat_minor": 5
}
