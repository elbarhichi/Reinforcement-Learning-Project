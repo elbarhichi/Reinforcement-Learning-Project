{
 "cells": [
  {
   "cell_type": "code",
   "execution_count": 1,
   "id": "8f3294a2",
   "metadata": {},
   "outputs": [
    {
     "name": "stderr",
     "output_type": "stream",
     "text": [
      "2025-04-24 20:25:08.514010: I tensorflow/core/util/port.cc:153] oneDNN custom operations are on. You may see slightly different numerical results due to floating-point round-off errors from different computation orders. To turn them off, set the environment variable `TF_ENABLE_ONEDNN_OPTS=0`.\n",
      "2025-04-24 20:25:08.561180: I tensorflow/core/platform/cpu_feature_guard.cc:210] This TensorFlow binary is optimized to use available CPU instructions in performance-critical operations.\n",
      "To enable the following instructions: AVX2 AVX512F AVX512_VNNI FMA, in other operations, rebuild TensorFlow with the appropriate compiler flags.\n",
      "2025-04-24 20:25:12.574216: I tensorflow/core/util/port.cc:153] oneDNN custom operations are on. You may see slightly different numerical results due to floating-point round-off errors from different computation orders. To turn them off, set the environment variable `TF_ENABLE_ONEDNN_OPTS=0`.\n"
     ]
    },
    {
     "data": {
      "image/png": "[encoded data removed]",
      "text/plain": [
       "<Figure size 640x480 with 1 Axes>"
      ]
     },
     "metadata": {},
     "output_type": "display_data"
    }
   ],
   "source": [
    "\n",
    "import os, time, pickle, psutil, gymnasium as gym, highway_env     # noqa: F401\n",
    "import matplotlib.pyplot as plt\n",
    "\n",
    "from stable_baselines3 import SAC\n",
    "from stable_baselines3.common.env_util import make_vec_env\n",
    "from stable_baselines3.common.vec_env import SubprocVecEnv\n",
    "from stable_baselines3.common.callbacks import EvalCallback\n",
    "\n",
    "ROOT       = os.path.abspath(\"..\")                     # /project/task3\n",
    "CONFIG_FN  = os.path.join(ROOT, \"configs\", \"config3.pkl\")\n",
    "LOG_DIR    = os.path.join(ROOT, \"logs\", \"sac_main\")    # <- dossier spécifique\n",
    "MODEL_DIR  = os.path.join(ROOT, \"models\")\n",
    "os.makedirs(LOG_DIR,  exist_ok=True)\n",
    "os.makedirs(MODEL_DIR, exist_ok=True)\n",
    "\n",
    "with open(CONFIG_FN, \"rb\") as f:\n",
    "    cfg = pickle.load(f)\n",
    "\n",
    "env_vis = gym.make(\"racetrack-v0\", render_mode=\"rgb_array\")\n",
    "env_vis.unwrapped.configure(cfg)\n",
    "obs, _ = env_vis.reset()\n",
    "plt.imshow(env_vis.render()); plt.axis(\"off\"); plt.title(\"Vue initiale\"); plt.show()\n",
    "env_vis.close()\n"
   ]
  },
  {
   "cell_type": "code",
   "execution_count": 2,
   "id": "95fa0e0d",
   "metadata": {},
   "outputs": [
    {
     "name": "stdout",
     "output_type": "stream",
     "text": [
      "N_ENVS=4 (CPU physiques : 24)\n",
      "Using cpu device\n"
     ]
    }
   ],
   "source": [
    "\n",
    "CORES   = psutil.cpu_count(logical=False)\n",
    "N_ENVS  = min(4, CORES // 2)        \n",
    "print(f\"{N_ENVS=} (CPU physiques : {CORES})\")\n",
    "\n",
    "vec_env = make_vec_env(\n",
    "    \"racetrack-v0\",\n",
    "    n_envs=N_ENVS,\n",
    "    env_kwargs={\"config\": cfg},\n",
    "    vec_env_cls=SubprocVecEnv if N_ENVS > 1 else None,\n",
    "    vec_env_kwargs={\"start_method\": \"fork\"} if N_ENVS > 1 else None,\n",
    ")\n",
    "\n",
    "TOTAL_TS        = 60_000          # ≃ 3-4 mn CPU, 1-2 mn GPU\n",
    "BUFFER_SIZE     = 60_000\n",
    "LEARNING_STARTS = 500             # warm-up très court\n",
    "BATCH_SIZE      = 128\n",
    "TRAIN_FREQ      = 4               # collecte 4  → 1 update\n",
    "GRADIENT_STEPS  = 1\n",
    "LR              = 7e-4\n",
    "GAMMA           = 0.99\n",
    "TAU             = 0.02\n",
    "policy_kwargs   = dict(net_arch=[128, 128])   # réseau plus petit & rapide\n",
    "\n",
    "model = SAC(\n",
    "    \"MlpPolicy\",\n",
    "    vec_env,\n",
    "    buffer_size=BUFFER_SIZE,\n",
    "    learning_rate=LR,\n",
    "    batch_size=BATCH_SIZE,\n",
    "    train_freq=TRAIN_FREQ,\n",
    "    gradient_steps=GRADIENT_STEPS,\n",
    "    learning_starts=LEARNING_STARTS,\n",
    "    gamma=GAMMA,\n",
    "    tau=TAU,\n",
    "    policy_kwargs=policy_kwargs,\n",
    "    tensorboard_log=LOG_DIR,\n",
    "    verbose=1,\n",
    ")\n",
    "\n",
    "eval_env = gym.make(\"racetrack-v0\")\n",
    "eval_env.unwrapped.configure(cfg)\n",
    "eval_cb = EvalCallback(\n",
    "    eval_env,\n",
    "    eval_freq=15_000,      # 4 eval pour 60 k pas => suffisamment fin\n",
    "    n_eval_episodes=3,\n",
    "    log_path=LOG_DIR,\n",
    "    deterministic=True,\n",
    ")\n"
   ]
  },
  {
   "cell_type": "code",
   "execution_count": 3,
   "id": "ff7a8186",
   "metadata": {},
   "outputs": [
    {
     "name": "stdout",
     "output_type": "stream",
     "text": [
      "Logging to /usr/users/streamingjailbreakdetection/elbarichi_moh/Reinforcement-Learning-Project/task3/logs/sac_main/sac_fast_2\n"
     ]
    },
    {
     "data": {
      "application/vnd.jupyter.widget-view+json": {
       "model_id": "4c1499d624504954943918ea8fb60328",
       "version_major": 2,
       "version_minor": 0
      },
      "text/plain": [
       "Output()"
      ]
     },
     "metadata": {},
     "output_type": "display_data"
    },
    {
     "name": "stderr",
     "output_type": "stream",
     "text": [
      "/usr/users/streamingjailbreakdetection/elbarichi_moh/miniconda3/lib/python3.12/site-packages/stable_baselines3/common/callbacks.py:418: UserWarning: Training and eval env are not of the same type<stable_baselines3.common.vec_env.subproc_vec_env.SubprocVecEnv object at 0x7f9bf96d3d40> != <stable_baselines3.common.vec_env.dummy_vec_env.DummyVecEnv object at 0x7f9df4c2b4d0>\n",
      "  warnings.warn(\"Training and eval env are not of the same type\" f\"{self.training_env} != {self.eval_env}\")\n"
     ]
    },
    {
     "name": "stdout",
     "output_type": "stream",
     "text": [
      "---------------------------------\n",
      "| rollout/           |          |\n",
      "|    ep_len_mean     | 1.5e+03  |\n",
      "|    ep_rew_mean     | 17.7     |\n",
      "| time/              |          |\n",
      "|    episodes        | 4        |\n",
      "|    fps             | 104      |\n",
      "|    time_elapsed    | 57       |\n",
      "|    total_timesteps | 6004     |\n",
      "| train/             |          |\n",
      "|    actor_loss      | -4.22    |\n",
      "|    critic_loss     | 0.017    |\n",
      "|    ent_coef        | 0.786    |\n",
      "|    ent_coef_loss   | -0.405   |\n",
      "|    learning_rate   | 0.0007   |\n",
      "|    n_updates       | 344      |\n",
      "---------------------------------\n"
     ]
    },
    {
     "name": "stdout",
     "output_type": "stream",
     "text": [
      "---------------------------------\n",
      "| rollout/           |          |\n",
      "|    ep_len_mean     | 1.22e+03 |\n",
      "|    ep_rew_mean     | 14.3     |\n",
      "| time/              |          |\n",
      "|    episodes        | 8        |\n",
      "|    fps             | 103      |\n",
      "|    time_elapsed    | 116      |\n",
      "|    total_timesteps | 12008    |\n",
      "| train/             |          |\n",
      "|    actor_loss      | -7.05    |\n",
      "|    critic_loss     | 0.0111   |\n",
      "|    ent_coef        | 0.605    |\n",
      "|    ent_coef_loss   | -0.844   |\n",
      "|    learning_rate   | 0.0007   |\n",
      "|    n_updates       | 719      |\n",
      "---------------------------------\n"
     ]
    },
    {
     "name": "stdout",
     "output_type": "stream",
     "text": [
      "---------------------------------\n",
      "| rollout/           |          |\n",
      "|    ep_len_mean     | 1.3e+03  |\n",
      "|    ep_rew_mean     | 13.3     |\n",
      "| time/              |          |\n",
      "|    episodes        | 12       |\n",
      "|    fps             | 102      |\n",
      "|    time_elapsed    | 175      |\n",
      "|    total_timesteps | 18012    |\n",
      "| train/             |          |\n",
      "|    actor_loss      | -8.98    |\n",
      "|    critic_loss     | 0.0147   |\n",
      "|    ent_coef        | 0.465    |\n",
      "|    ent_coef_loss   | -1.29    |\n",
      "|    learning_rate   | 0.0007   |\n",
      "|    n_updates       | 1094     |\n",
      "---------------------------------\n"
     ]
    },
    {
     "ename": "",
     "evalue": "",
     "output_type": "error",
     "traceback": [
      "\u001b[1;31mThe Kernel crashed while executing code in the current cell or a previous cell. \n",
      "\u001b[1;31mPlease review the code in the cell(s) to identify a possible cause of the failure. \n",
      "\u001b[1;31mClick <a href='https://aka.ms/vscodeJupyterKernelCrash'>here</a> for more info. \n",
      "\u001b[1;31mView Jupyter <a href='command:jupyter.viewOutput'>log</a> for further details."
     ]
    }
   ],
   "source": [
    "\n",
    "start = time.time()\n",
    "model.learn(\n",
    "    total_timesteps=TOTAL_TS,\n",
    "    tb_log_name=\"sac_fast\",\n",
    "    callback=eval_cb,\n",
    "    progress_bar=True,\n",
    ")\n",
    "print(f\"⏱  entraînement : {(time.time()-start)/60:.1f} min\")\n"
   ]
  },
  {
   "cell_type": "code",
   "execution_count": null,
   "id": "8fb5dc2d",
   "metadata": {},
   "outputs": [
    {
     "data": {
      "text/html": [
       "<pre style=\"white-space:pre;overflow-x:auto;line-height:normal;font-family:Menlo,'DejaVu Sans Mono',consolas,'Courier New',monospace\">✓ modèle &amp; méta sauvegardés → \n",
       "/usr/users/streamingjailbreakdetection/elbarichi_moh/Reinforcement-Learning-Project/task3/models/sac_racetrack.zip\n",
       "</pre>\n"
      ],
      "text/plain": [
       "✓ modèle & méta sauvegardés → \n",
       "/usr/users/streamingjailbreakdetection/elbarichi_moh/Reinforcement-Learning-Project/task3/models/sac_racetrack.zip\n"
      ]
     },
     "metadata": {},
     "output_type": "display_data"
    }
   ],
   "source": [
    "model_path = os.path.join(MODEL_DIR, \"sac_racetrack_fast.zip\")\n",
    "model.save(model_path)\n",
    "with open(model_path.replace(\".zip\", \"_info.txt\"), \"w\") as f:\n",
    "    f.write(\n",
    "        f\"algo=SAC fast\\nn_envs={N_ENVS}\\n\"\n",
    "        f\"buffer={BUFFER_SIZE}\\nbatch={BATCH_SIZE}\\n\"\n",
    "        f\"lr={LR}\\ngamma={GAMMA}\\n\"\n",
    "        f\"total_ts/env={TOTAL_TS}\\n\"\n",
    "    )\n",
    "print(\"✓ modèle & méta sauvegardés →\", model_path)\n"
   ]
  }
 ],
 "metadata": {
  "kernelspec": {
   "display_name": "base",
   "language": "python",
   "name": "python3"
  },
  "language_info": {
   "codemirror_mode": {
    "name": "ipython",
    "version": 3
   },
   "file_extension": ".py",
   "mimetype": "text/x-python",
   "name": "python",
   "nbconvert_exporter": "python",
   "pygments_lexer": "ipython3",
   "version": "3.12.9"
  }
 },
 "nbformat": 4,
 "nbformat_minor": 5
}
